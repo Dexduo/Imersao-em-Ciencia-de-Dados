{
  "nbformat": 4,
  "nbformat_minor": 0,
  "metadata": {
    "colab": {
      "provenance": [],
      "authorship_tag": "ABX9TyPegnibqdG2741NfWiTej06",
      "include_colab_link": true
    },
    "kernelspec": {
      "name": "python3",
      "display_name": "Python 3"
    },
    "language_info": {
      "name": "python"
    }
  },
  "cells": [
    {
      "cell_type": "markdown",
      "metadata": {
        "id": "view-in-github",
        "colab_type": "text"
      },
      "source": [
        "<a href=\"https://colab.research.google.com/github/Dexduo/Imersao-em-Ciencia-de-Dados/blob/main/Notebooks/Estruturas_de_Dados.ipynb\" target=\"_parent\"><img src=\"https://colab.research.google.com/assets/colab-badge.svg\" alt=\"Open In Colab\"/></a>"
      ]
    },
    {
      "cell_type": "markdown",
      "source": [
        "### Tuplas (e seus métodos)\n",
        "### Listas (e seus métodos)"
      ],
      "metadata": {
        "id": "D5WOS1WWXiT6"
      }
    },
    {
      "cell_type": "code",
      "execution_count": null,
      "metadata": {
        "id": "mMAQexVPTzzN"
      },
      "outputs": [],
      "source": []
    },
    {
      "cell_type": "markdown",
      "source": [
        "### Funções embutidas\n",
        "\n",
        "*   Enumerate\n",
        "*   Sorted\n",
        "*   Zip\n",
        "*   Reversed\n",
        "\n",
        "\n",
        "\n",
        "\n",
        "\n"
      ],
      "metadata": {
        "id": "bjNp4Id4X4ie"
      }
    },
    {
      "cell_type": "code",
      "source": [],
      "metadata": {
        "id": "eWP8TMjlZpIt"
      },
      "execution_count": null,
      "outputs": []
    },
    {
      "cell_type": "markdown",
      "source": [
        "### Dicionários\n"
      ],
      "metadata": {
        "id": "8F-6UIE4Zpnf"
      }
    },
    {
      "cell_type": "code",
      "source": [],
      "metadata": {
        "id": "O0rMKS7IbB09"
      },
      "execution_count": null,
      "outputs": []
    },
    {
      "cell_type": "markdown",
      "source": [
        "### Conjuntos"
      ],
      "metadata": {
        "id": "r3GZPS0VbCSV"
      }
    },
    {
      "cell_type": "code",
      "source": [],
      "metadata": {
        "id": "JBUQQMwhbGoU"
      },
      "execution_count": null,
      "outputs": []
    },
    {
      "cell_type": "markdown",
      "source": [
        "### Comprehensions\n",
        "\n",
        "\n",
        "*   list\n",
        "*   set\n",
        "*   dict\n",
        "\n"
      ],
      "metadata": {
        "id": "ZQvfM3QobhON"
      }
    },
    {
      "cell_type": "code",
      "source": [
        "profissoes = ['professor', 'medico', 'ator', 'engenheiro', 'musico', 'arquiteto']\n",
        "\n",
        "[x.upper() for x in profissoes if len(x) > 6]"
      ],
      "metadata": {
        "colab": {
          "base_uri": "https://localhost:8080/"
        },
        "id": "fZEn7xZTcUKt",
        "outputId": "031feb11-efbb-4cc5-b5ec-31876cadf907"
      },
      "execution_count": 2,
      "outputs": [
        {
          "output_type": "execute_result",
          "data": {
            "text/plain": [
              "['PROFESSOR', 'ENGENHEIRO', 'ARQUITETO']"
            ]
          },
          "metadata": {},
          "execution_count": 2
        }
      ]
    },
    {
      "cell_type": "code",
      "source": [
        "tamanho_unico = {len(x) for x in profissoes} #lembrando que, o operador chave {} indica conjunto, se tiver duas coisas iguais ele não repete, no caso dois tamanhos iguais.\n",
        "tamanho_unico"
      ],
      "metadata": {
        "colab": {
          "base_uri": "https://localhost:8080/"
        },
        "id": "RJMGFpFRdkfl",
        "outputId": "9d31364a-8ce9-43de-ec14-745eb844800b"
      },
      "execution_count": 5,
      "outputs": [
        {
          "output_type": "execute_result",
          "data": {
            "text/plain": [
              "{4, 6, 9, 10}"
            ]
          },
          "metadata": {},
          "execution_count": 5
        }
      ]
    },
    {
      "cell_type": "code",
      "source": [
        "mapeamento = {val:index for index, val in enumerate(sorted(profissoes))} #o sorted é opcional, mas optei pelo método apenas para organizar.\n",
        "mapeamento"
      ],
      "metadata": {
        "colab": {
          "base_uri": "https://localhost:8080/"
        },
        "id": "1v5pGEw_e4KU",
        "outputId": "8142f48a-6e37-425e-a906-da480a98466e"
      },
      "execution_count": 9,
      "outputs": [
        {
          "output_type": "execute_result",
          "data": {
            "text/plain": [
              "{'arquiteto': 0,\n",
              " 'ator': 1,\n",
              " 'engenheiro': 2,\n",
              " 'medico': 3,\n",
              " 'musico': 4,\n",
              " 'professor': 5}"
            ]
          },
          "metadata": {},
          "execution_count": 9
        }
      ]
    }
  ]
}