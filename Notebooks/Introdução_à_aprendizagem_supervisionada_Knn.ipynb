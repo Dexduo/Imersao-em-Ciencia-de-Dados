{
  "nbformat": 4,
  "nbformat_minor": 0,
  "metadata": {
    "colab": {
      "provenance": [],
      "authorship_tag": "ABX9TyPuGefRYwWWuOJlQrGYtJYN",
      "include_colab_link": true
    },
    "kernelspec": {
      "name": "python3",
      "display_name": "Python 3"
    },
    "language_info": {
      "name": "python"
    }
  },
  "cells": [
    {
      "cell_type": "markdown",
      "metadata": {
        "id": "view-in-github",
        "colab_type": "text"
      },
      "source": [
        "<a href=\"https://colab.research.google.com/github/Dexduo/Imersao-em-Ciencia-de-Dados/blob/main/Notebooks/Introdu%C3%A7%C3%A3o_%C3%A0_aprendizagem_supervisionada_Knn.ipynb\" target=\"_parent\"><img src=\"https://colab.research.google.com/assets/colab-badge.svg\" alt=\"Open In Colab\"/></a>"
      ]
    },
    {
      "cell_type": "markdown",
      "source": [
        "## **Introdução à aprendizagem supervisionada - Knn**"
      ],
      "metadata": {
        "id": "5OTzm7Y1fByH"
      }
    },
    {
      "cell_type": "code",
      "execution_count": null,
      "metadata": {
        "id": "_caXo1bMeuOA"
      },
      "outputs": [],
      "source": []
    }
  ]
}