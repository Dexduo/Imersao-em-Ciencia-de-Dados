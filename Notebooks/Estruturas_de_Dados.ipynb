{
  "nbformat": 4,
  "nbformat_minor": 0,
  "metadata": {
    "colab": {
      "provenance": [],
      "authorship_tag": "ABX9TyPAwXb87pWXyMot/BqyQnEf",
      "include_colab_link": true
    },
    "kernelspec": {
      "name": "python3",
      "display_name": "Python 3"
    },
    "language_info": {
      "name": "python"
    }
  },
  "cells": [
    {
      "cell_type": "markdown",
      "metadata": {
        "id": "view-in-github",
        "colab_type": "text"
      },
      "source": [
        "<a href=\"https://colab.research.google.com/github/Dexduo/Imersao-em-Ciencia-de-Dados/blob/main/Notebooks/Estruturas_de_Dados.ipynb\" target=\"_parent\"><img src=\"https://colab.research.google.com/assets/colab-badge.svg\" alt=\"Open In Colab\"/></a>"
      ]
    },
    {
      "cell_type": "markdown",
      "source": [
        "### Tuplas (e seus métodos)\n",
        "### Listas (e seus métodos)"
      ],
      "metadata": {
        "id": "D5WOS1WWXiT6"
      }
    },
    {
      "cell_type": "code",
      "execution_count": null,
      "metadata": {
        "id": "mMAQexVPTzzN"
      },
      "outputs": [],
      "source": []
    },
    {
      "cell_type": "markdown",
      "source": [
        "### Funções embutidas\n",
        "\n",
        "*   Enumerate\n",
        "*   Sorted\n",
        "*   Zip\n",
        "*   Reversed\n",
        "\n",
        "\n",
        "\n",
        "\n",
        "\n"
      ],
      "metadata": {
        "id": "bjNp4Id4X4ie"
      }
    },
    {
      "cell_type": "code",
      "source": [],
      "metadata": {
        "id": "eWP8TMjlZpIt"
      },
      "execution_count": null,
      "outputs": []
    },
    {
      "cell_type": "markdown",
      "source": [
        "### Dicionários\n"
      ],
      "metadata": {
        "id": "8F-6UIE4Zpnf"
      }
    },
    {
      "cell_type": "code",
      "source": [],
      "metadata": {
        "id": "O0rMKS7IbB09"
      },
      "execution_count": null,
      "outputs": []
    },
    {
      "cell_type": "markdown",
      "source": [
        "### Conjuntos"
      ],
      "metadata": {
        "id": "r3GZPS0VbCSV"
      }
    },
    {
      "cell_type": "code",
      "source": [],
      "metadata": {
        "id": "JBUQQMwhbGoU"
      },
      "execution_count": null,
      "outputs": []
    },
    {
      "cell_type": "markdown",
      "source": [
        "### Comprehensions\n",
        "\n",
        "\n",
        "*   list\n",
        "*   set\n",
        "*   dict\n",
        "\n"
      ],
      "metadata": {
        "id": "ZQvfM3QobhON"
      }
    }
  ]
}