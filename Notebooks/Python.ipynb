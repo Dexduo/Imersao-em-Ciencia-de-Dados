{
  "nbformat": 4,
  "nbformat_minor": 0,
  "metadata": {
    "colab": {
      "provenance": [],
      "authorship_tag": "ABX9TyPvp2zDkv13yOJR4QkEw0of",
      "include_colab_link": true
    },
    "kernelspec": {
      "name": "python3",
      "display_name": "Python 3"
    },
    "language_info": {
      "name": "python"
    }
  },
  "cells": [
    {
      "cell_type": "markdown",
      "metadata": {
        "id": "view-in-github",
        "colab_type": "text"
      },
      "source": [
        "<a href=\"https://colab.research.google.com/github/Dexduo/Imersao-em-Ciencia-de-Dados/blob/main/Notebooks/Python.ipynb\" target=\"_parent\"><img src=\"https://colab.research.google.com/assets/colab-badge.svg\" alt=\"Open In Colab\"/></a>"
      ]
    },
    {
      "cell_type": "markdown",
      "source": [
        "## **Numpy**"
      ],
      "metadata": {
        "id": "QfixgGa3x4nP"
      }
    },
    {
      "cell_type": "code",
      "execution_count": 1,
      "metadata": {
        "id": "wcXIOUWPx0wI"
      },
      "outputs": [],
      "source": [
        "import numpy as np"
      ]
    },
    {
      "cell_type": "code",
      "source": [
        "vetor_np = np.arange(1000000)\n",
        "lista = list(range(1000000))"
      ],
      "metadata": {
        "id": "sXBoGOvr2_-E"
      },
      "execution_count": 2,
      "outputs": []
    },
    {
      "cell_type": "code",
      "source": [
        "%time for _ in range(1000): vetor_np2 = vetor_np*2"
      ],
      "metadata": {
        "colab": {
          "base_uri": "https://localhost:8080/"
        },
        "id": "-yeobq6x3Q4c",
        "outputId": "3b9423a5-5a89-4146-e9d5-f369f15c5764"
      },
      "execution_count": 4,
      "outputs": [
        {
          "output_type": "stream",
          "name": "stdout",
          "text": [
            "CPU times: user 1.07 s, sys: 18.2 ms, total: 1.09 s\n",
            "Wall time: 1.09 s\n"
          ]
        }
      ]
    },
    {
      "cell_type": "code",
      "source": [
        "%time for _ in range(1000): lista2 = [x * 2 for x in lista]"
      ],
      "metadata": {
        "colab": {
          "base_uri": "https://localhost:8080/"
        },
        "id": "H_gf7K883hRN",
        "outputId": "57e2098d-2321-41de-9ecd-f21e71ce7f65"
      },
      "execution_count": 5,
      "outputs": [
        {
          "output_type": "stream",
          "name": "stdout",
          "text": [
            "CPU times: user 1min 11s, sys: 9.79 s, total: 1min 21s\n",
            "Wall time: 1min 23s\n"
          ]
        }
      ]
    },
    {
      "cell_type": "code",
      "source": [
        "data = np.random.randn(2, 3)"
      ],
      "metadata": {
        "id": "MFQ3LhnG3uuM"
      },
      "execution_count": 6,
      "outputs": []
    },
    {
      "cell_type": "code",
      "source": [
        "data * 10"
      ],
      "metadata": {
        "colab": {
          "base_uri": "https://localhost:8080/"
        },
        "id": "8zId7e4D4SM1",
        "outputId": "4ac5b932-9b44-4dc2-b5f8-e23058d47077"
      },
      "execution_count": 8,
      "outputs": [
        {
          "output_type": "execute_result",
          "data": {
            "text/plain": [
              "array([[ 4.68143702, -9.39968651, -8.79680636],\n",
              "       [13.6041721 ,  1.54444458,  2.29667566]])"
            ]
          },
          "metadata": {},
          "execution_count": 8
        }
      ]
    },
    {
      "cell_type": "code",
      "source": [
        "data + data"
      ],
      "metadata": {
        "colab": {
          "base_uri": "https://localhost:8080/"
        },
        "id": "nnYCSIFk4a7-",
        "outputId": "64cd90ca-1ce2-4efa-ff78-fcbe5a851ca3"
      },
      "execution_count": 9,
      "outputs": [
        {
          "output_type": "execute_result",
          "data": {
            "text/plain": [
              "array([[ 0.9362874 , -1.8799373 , -1.75936127],\n",
              "       [ 2.72083442,  0.30888892,  0.45933513]])"
            ]
          },
          "metadata": {},
          "execution_count": 9
        }
      ]
    },
    {
      "cell_type": "markdown",
      "source": [
        "### **Ndarrays**"
      ],
      "metadata": {
        "id": "QUfY6m4D4ip3"
      }
    },
    {
      "cell_type": "code",
      "source": [
        "dados_exemplo = [1, 8.9, 0, 3.14, 9]\n",
        "\n",
        "numpy_array = np.array(dados_exemplo)\n",
        "numpy_array"
      ],
      "metadata": {
        "colab": {
          "base_uri": "https://localhost:8080/"
        },
        "id": "B31aNWL192hj",
        "outputId": "7b1bf74c-fb48-43f6-c3cd-9a36f9cc895e"
      },
      "execution_count": 11,
      "outputs": [
        {
          "output_type": "execute_result",
          "data": {
            "text/plain": [
              "array([1.  , 8.9 , 0.  , 3.14, 9.  ])"
            ]
          },
          "metadata": {},
          "execution_count": 11
        }
      ]
    },
    {
      "cell_type": "code",
      "source": [
        "dados_exemplo2 = [[1, 2, 3, 4], [5, 6, 7, 8]]\n",
        "numpy_array2 = np.array(dados_exemplo2)\n",
        "dados_exemplo2"
      ],
      "metadata": {
        "colab": {
          "base_uri": "https://localhost:8080/"
        },
        "id": "kqdicnk3-KVz",
        "outputId": "690f6fda-420f-40b9-983f-60931880afa4"
      },
      "execution_count": 14,
      "outputs": [
        {
          "output_type": "execute_result",
          "data": {
            "text/plain": [
              "[[1, 2, 3, 4], [5, 6, 7, 8]]"
            ]
          },
          "metadata": {},
          "execution_count": 14
        }
      ]
    },
    {
      "cell_type": "code",
      "source": [
        "print(numpy_array.ndim) #number of dimensions in a numpy array\n",
        "print(numpy_array2.ndim)"
      ],
      "metadata": {
        "colab": {
          "base_uri": "https://localhost:8080/"
        },
        "id": "uPHFUXij-X4j",
        "outputId": "7d316f6b-f64e-4d84-e87a-408810b15eb0"
      },
      "execution_count": 16,
      "outputs": [
        {
          "output_type": "stream",
          "name": "stdout",
          "text": [
            "1\n",
            "2\n"
          ]
        }
      ]
    },
    {
      "cell_type": "code",
      "source": [
        "print(numpy_array.shape) #dimensions of a numpy array e.g.: rows, columns etc.\n",
        "print(numpy_array2.shape)"
      ],
      "metadata": {
        "colab": {
          "base_uri": "https://localhost:8080/"
        },
        "id": "gQ8XwNjZ-0Is",
        "outputId": "8fd8111a-e285-4491-a7f1-202a5d37c76e"
      },
      "execution_count": 17,
      "outputs": [
        {
          "output_type": "stream",
          "name": "stdout",
          "text": [
            "(5,)\n",
            "(2, 4)\n"
          ]
        }
      ]
    },
    {
      "cell_type": "code",
      "source": [
        "print(numpy_array.dtype) #shows the type of the values in the numpy array\n",
        "print(numpy_array2.dtype)"
      ],
      "metadata": {
        "colab": {
          "base_uri": "https://localhost:8080/"
        },
        "id": "CYwVB9A4_x3N",
        "outputId": "1621cc02-277a-418a-e63d-85aa7c592ea9"
      },
      "execution_count": 19,
      "outputs": [
        {
          "output_type": "stream",
          "name": "stdout",
          "text": [
            "float64\n",
            "int64\n"
          ]
        }
      ]
    },
    {
      "cell_type": "code",
      "source": [
        "array = np.array([1, 2, 3, 4])\n",
        "print(array.dtype)\n",
        "\n",
        "float_array = array.astype(np.float64) # the attribute \"astype\" casts the type of an numpy array to another type.\n",
        "print(float_array.dtype)"
      ],
      "metadata": {
        "colab": {
          "base_uri": "https://localhost:8080/"
        },
        "id": "zsDhe0wgAHT9",
        "outputId": "6cafd1c1-91aa-46b8-fbed-f4d7f9f9233b"
      },
      "execution_count": 21,
      "outputs": [
        {
          "output_type": "stream",
          "name": "stdout",
          "text": [
            "int64\n",
            "float64\n"
          ]
        }
      ]
    },
    {
      "cell_type": "markdown",
      "source": [
        "**Other ways to create Numpy Arrays**"
      ],
      "metadata": {
        "id": "LrfAjseqChLp"
      }
    },
    {
      "cell_type": "code",
      "source": [
        "np.zeros(7) # creates a numpy array of zeros with the dimension set in parameter."
      ],
      "metadata": {
        "colab": {
          "base_uri": "https://localhost:8080/"
        },
        "id": "KkWIkCk6CqG8",
        "outputId": "05153a0b-f0be-4937-b33d-79d8b7228aa7"
      },
      "execution_count": 22,
      "outputs": [
        {
          "output_type": "execute_result",
          "data": {
            "text/plain": [
              "array([0., 0., 0., 0., 0., 0., 0.])"
            ]
          },
          "metadata": {},
          "execution_count": 22
        }
      ]
    },
    {
      "cell_type": "code",
      "source": [
        "np.zeros((2, 7))"
      ],
      "metadata": {
        "colab": {
          "base_uri": "https://localhost:8080/"
        },
        "id": "hiLB44vfDO0L",
        "outputId": "f5447cc1-e17d-4834-fab4-a55d387ae9f6"
      },
      "execution_count": 24,
      "outputs": [
        {
          "output_type": "execute_result",
          "data": {
            "text/plain": [
              "array([[0., 0., 0., 0., 0., 0., 0.],\n",
              "       [0., 0., 0., 0., 0., 0., 0.]])"
            ]
          },
          "metadata": {},
          "execution_count": 24
        }
      ]
    },
    {
      "cell_type": "code",
      "source": [
        "np.empty(10) # creates a numpy array with \"empty\" values with the dimension set in parameter."
      ],
      "metadata": {
        "colab": {
          "base_uri": "https://localhost:8080/"
        },
        "id": "409dpFwtEM30",
        "outputId": "19e1c97a-9859-4b9f-b07c-114fe79a09bb"
      },
      "execution_count": 26,
      "outputs": [
        {
          "output_type": "execute_result",
          "data": {
            "text/plain": [
              "array([4.74992237e-310, 0.00000000e+000, 0.00000000e+000, 0.00000000e+000,\n",
              "       0.00000000e+000, 2.32252306e-056, 4.99028112e+174, 7.73302165e-091,\n",
              "       1.17714027e-047, 9.82391459e+252])"
            ]
          },
          "metadata": {},
          "execution_count": 26
        }
      ]
    },
    {
      "cell_type": "code",
      "source": [
        "np.empty((2, 2, 4))"
      ],
      "metadata": {
        "colab": {
          "base_uri": "https://localhost:8080/"
        },
        "id": "TTnrM7wMEfA7",
        "outputId": "2905e07b-8e6d-42e6-fa26-3f130f475710"
      },
      "execution_count": 27,
      "outputs": [
        {
          "output_type": "execute_result",
          "data": {
            "text/plain": [
              "array([[[4.74992237e-310, 0.00000000e+000, 2.41907520e-312,\n",
              "         2.37663529e-312],\n",
              "        [2.22809558e-312, 2.46151512e-312, 6.79038654e-313,\n",
              "         2.35541533e-312]],\n",
              "\n",
              "       [[2.46151512e-312, 6.79038654e-313, 2.35541533e-312,\n",
              "         6.79038654e-313],\n",
              "        [2.14321575e-312, 2.22809558e-312, 2.14321575e-312,\n",
              "         1.79886087e-259]]])"
            ]
          },
          "metadata": {},
          "execution_count": 27
        }
      ]
    },
    {
      "cell_type": "code",
      "source": [
        "np.arange(9) # creates a numpy array with the interval set in parameter."
      ],
      "metadata": {
        "colab": {
          "base_uri": "https://localhost:8080/"
        },
        "id": "dOpKmEnJEk70",
        "outputId": "16bd8239-6c79-426a-a921-7182357c19a5"
      },
      "execution_count": 29,
      "outputs": [
        {
          "output_type": "execute_result",
          "data": {
            "text/plain": [
              "array([0, 1, 2, 3, 4, 5, 6, 7, 8])"
            ]
          },
          "metadata": {},
          "execution_count": 29
        }
      ]
    },
    {
      "cell_type": "code",
      "source": [
        "np.arange(5, 11)"
      ],
      "metadata": {
        "colab": {
          "base_uri": "https://localhost:8080/"
        },
        "id": "yj-3SV4hEyvG",
        "outputId": "362582d0-edfd-450b-a808-121a4264617c"
      },
      "execution_count": 30,
      "outputs": [
        {
          "output_type": "execute_result",
          "data": {
            "text/plain": [
              "array([ 5,  6,  7,  8,  9, 10])"
            ]
          },
          "metadata": {},
          "execution_count": 30
        }
      ]
    },
    {
      "cell_type": "markdown",
      "source": [
        "**Aritmética com Arrays Numpy**"
      ],
      "metadata": {
        "id": "djk2kFSsHFYF"
      }
    },
    {
      "cell_type": "code",
      "source": [
        "array_1 = np.array(np.arange(1, 5))\n",
        "array_2 = np.array([5, 6, 7, 8])"
      ],
      "metadata": {
        "id": "n_EkQeJWHQIN"
      },
      "execution_count": 32,
      "outputs": []
    },
    {
      "cell_type": "code",
      "source": [
        "array_1 + array_2"
      ],
      "metadata": {
        "colab": {
          "base_uri": "https://localhost:8080/"
        },
        "id": "2qNLo9LeHfSH",
        "outputId": "b0d8cc37-c3f2-4806-f92f-6da80de746aa"
      },
      "execution_count": 33,
      "outputs": [
        {
          "output_type": "execute_result",
          "data": {
            "text/plain": [
              "array([ 6,  8, 10, 12])"
            ]
          },
          "metadata": {},
          "execution_count": 33
        }
      ]
    },
    {
      "cell_type": "code",
      "source": [
        "array_1 * array_2"
      ],
      "metadata": {
        "colab": {
          "base_uri": "https://localhost:8080/"
        },
        "id": "dEVjCWN0HkIh",
        "outputId": "a645d730-f1d6-489c-f387-07c54b084bc8"
      },
      "execution_count": 34,
      "outputs": [
        {
          "output_type": "execute_result",
          "data": {
            "text/plain": [
              "array([ 5, 12, 21, 32])"
            ]
          },
          "metadata": {},
          "execution_count": 34
        }
      ]
    },
    {
      "cell_type": "code",
      "source": [
        "array_2 ** 2"
      ],
      "metadata": {
        "colab": {
          "base_uri": "https://localhost:8080/"
        },
        "id": "cNERPLCXHsrF",
        "outputId": "af44e4e7-0d55-4194-feb3-5fbcc164866e"
      },
      "execution_count": 36,
      "outputs": [
        {
          "output_type": "execute_result",
          "data": {
            "text/plain": [
              "array([25, 36, 49, 64])"
            ]
          },
          "metadata": {},
          "execution_count": 36
        }
      ]
    }
  ]
}