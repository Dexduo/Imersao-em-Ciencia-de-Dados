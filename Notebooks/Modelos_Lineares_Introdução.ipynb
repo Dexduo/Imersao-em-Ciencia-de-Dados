{
  "nbformat": 4,
  "nbformat_minor": 0,
  "metadata": {
    "colab": {
      "provenance": [],
      "authorship_tag": "ABX9TyMJL2/snE9ktjJOTcwxDvX6",
      "include_colab_link": true
    },
    "kernelspec": {
      "name": "python3",
      "display_name": "Python 3"
    },
    "language_info": {
      "name": "python"
    }
  },
  "cells": [
    {
      "cell_type": "markdown",
      "metadata": {
        "id": "view-in-github",
        "colab_type": "text"
      },
      "source": [
        "<a href=\"https://colab.research.google.com/github/Dexduo/Imersao-em-Ciencia-de-Dados/blob/main/Notebooks/Modelos_Lineares_Introdu%C3%A7%C3%A3o.ipynb\" target=\"_parent\"><img src=\"https://colab.research.google.com/assets/colab-badge.svg\" alt=\"Open In Colab\"/></a>"
      ]
    },
    {
      "cell_type": "markdown",
      "source": [
        "## **Modelos Lineares**"
      ],
      "metadata": {
        "id": "tgVkAHEpjGLx"
      }
    },
    {
      "cell_type": "code",
      "execution_count": null,
      "metadata": {
        "id": "Xv0IGTFFi_vi"
      },
      "outputs": [],
      "source": []
    }
  ]
}